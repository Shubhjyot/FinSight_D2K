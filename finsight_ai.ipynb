{
  "cells": [
    {
      "cell_type": "code",
      "execution_count": null,
      "metadata": {
        "colab": {
          "base_uri": "https://localhost:8080/",
          "height": 147
        },
        "id": "hbKlUB7VsvPY",
        "outputId": "98ea5fab-b683-403c-823c-aadd4780a07c"
      },
      "outputs": [
        {
          "data": {
            "application/vnd.google.colaboratory.intrinsic+json": {
              "type": "dataframe",
              "variable_name": "eco_ind"
            },
            "text/html": [
              "\n",
              "  <div id=\"df-7fbaee45-6f76-42f4-b414-75c36a992a1c\" class=\"colab-df-container\">\n",
              "    <div>\n",
              "<style scoped>\n",
              "    .dataframe tbody tr th:only-of-type {\n",
              "        vertical-align: middle;\n",
              "    }\n",
              "\n",
              "    .dataframe tbody tr th {\n",
              "        vertical-align: top;\n",
              "    }\n",
              "\n",
              "    .dataframe thead th {\n",
              "        text-align: right;\n",
              "    }\n",
              "</style>\n",
              "<table border=\"1\" class=\"dataframe\">\n",
              "  <thead>\n",
              "    <tr style=\"text-align: right;\">\n",
              "      <th></th>\n",
              "      <th>symbol</th>\n",
              "      <th>name</th>\n",
              "      <th>price</th>\n",
              "      <th>changesPercentage</th>\n",
              "      <th>change</th>\n",
              "      <th>dayLow</th>\n",
              "      <th>dayHigh</th>\n",
              "      <th>yearHigh</th>\n",
              "      <th>yearLow</th>\n",
              "      <th>marketCap</th>\n",
              "      <th>...</th>\n",
              "      <th>exchange</th>\n",
              "      <th>volume</th>\n",
              "      <th>avgVolume</th>\n",
              "      <th>open</th>\n",
              "      <th>previousClose</th>\n",
              "      <th>eps</th>\n",
              "      <th>pe</th>\n",
              "      <th>earningsAnnouncement</th>\n",
              "      <th>sharesOutstanding</th>\n",
              "      <th>timestamp</th>\n",
              "    </tr>\n",
              "  </thead>\n",
              "  <tbody>\n",
              "    <tr>\n",
              "      <th>0</th>\n",
              "      <td>MSFT</td>\n",
              "      <td>Microsoft Corporation</td>\n",
              "      <td>391.26</td>\n",
              "      <td>1.14259</td>\n",
              "      <td>4.42</td>\n",
              "      <td>382.92</td>\n",
              "      <td>391.71</td>\n",
              "      <td>468.35</td>\n",
              "      <td>376.91</td>\n",
              "      <td>2908619014800</td>\n",
              "      <td>...</td>\n",
              "      <td>NASDAQ</td>\n",
              "      <td>38759185</td>\n",
              "      <td>22370941</td>\n",
              "      <td>384.71</td>\n",
              "      <td>386.84</td>\n",
              "      <td>12.42</td>\n",
              "      <td>31.5</td>\n",
              "      <td>2025-04-23T20:00:00.000+0000</td>\n",
              "      <td>7433980000</td>\n",
              "      <td>1742587202</td>\n",
              "    </tr>\n",
              "  </tbody>\n",
              "</table>\n",
              "<p>1 rows × 22 columns</p>\n",
              "</div>\n",
              "    <div class=\"colab-df-buttons\">\n",
              "\n",
              "  <div class=\"colab-df-container\">\n",
              "    <button class=\"colab-df-convert\" onclick=\"convertToInteractive('df-7fbaee45-6f76-42f4-b414-75c36a992a1c')\"\n",
              "            title=\"Convert this dataframe to an interactive table.\"\n",
              "            style=\"display:none;\">\n",
              "\n",
              "  <svg xmlns=\"http://www.w3.org/2000/svg\" height=\"24px\" viewBox=\"0 -960 960 960\">\n",
              "    <path d=\"M120-120v-720h720v720H120Zm60-500h600v-160H180v160Zm220 220h160v-160H400v160Zm0 220h160v-160H400v160ZM180-400h160v-160H180v160Zm440 0h160v-160H620v160ZM180-180h160v-160H180v160Zm440 0h160v-160H620v160Z\"/>\n",
              "  </svg>\n",
              "    </button>\n",
              "\n",
              "  <style>\n",
              "    .colab-df-container {\n",
              "      display:flex;\n",
              "      gap: 12px;\n",
              "    }\n",
              "\n",
              "    .colab-df-convert {\n",
              "      background-color: #E8F0FE;\n",
              "      border: none;\n",
              "      border-radius: 50%;\n",
              "      cursor: pointer;\n",
              "      display: none;\n",
              "      fill: #1967D2;\n",
              "      height: 32px;\n",
              "      padding: 0 0 0 0;\n",
              "      width: 32px;\n",
              "    }\n",
              "\n",
              "    .colab-df-convert:hover {\n",
              "      background-color: #E2EBFA;\n",
              "      box-shadow: 0px 1px 2px rgba(60, 64, 67, 0.3), 0px 1px 3px 1px rgba(60, 64, 67, 0.15);\n",
              "      fill: #174EA6;\n",
              "    }\n",
              "\n",
              "    .colab-df-buttons div {\n",
              "      margin-bottom: 4px;\n",
              "    }\n",
              "\n",
              "    [theme=dark] .colab-df-convert {\n",
              "      background-color: #3B4455;\n",
              "      fill: #D2E3FC;\n",
              "    }\n",
              "\n",
              "    [theme=dark] .colab-df-convert:hover {\n",
              "      background-color: #434B5C;\n",
              "      box-shadow: 0px 1px 3px 1px rgba(0, 0, 0, 0.15);\n",
              "      filter: drop-shadow(0px 1px 2px rgba(0, 0, 0, 0.3));\n",
              "      fill: #FFFFFF;\n",
              "    }\n",
              "  </style>\n",
              "\n",
              "    <script>\n",
              "      const buttonEl =\n",
              "        document.querySelector('#df-7fbaee45-6f76-42f4-b414-75c36a992a1c button.colab-df-convert');\n",
              "      buttonEl.style.display =\n",
              "        google.colab.kernel.accessAllowed ? 'block' : 'none';\n",
              "\n",
              "      async function convertToInteractive(key) {\n",
              "        const element = document.querySelector('#df-7fbaee45-6f76-42f4-b414-75c36a992a1c');\n",
              "        const dataTable =\n",
              "          await google.colab.kernel.invokeFunction('convertToInteractive',\n",
              "                                                    [key], {});\n",
              "        if (!dataTable) return;\n",
              "\n",
              "        const docLinkHtml = 'Like what you see? Visit the ' +\n",
              "          '<a target=\"_blank\" href=https://colab.research.google.com/notebooks/data_table.ipynb>data table notebook</a>'\n",
              "          + ' to learn more about interactive tables.';\n",
              "        element.innerHTML = '';\n",
              "        dataTable['output_type'] = 'display_data';\n",
              "        await google.colab.output.renderOutput(dataTable, element);\n",
              "        const docLink = document.createElement('div');\n",
              "        docLink.innerHTML = docLinkHtml;\n",
              "        element.appendChild(docLink);\n",
              "      }\n",
              "    </script>\n",
              "  </div>\n",
              "\n",
              "\n",
              "  <div id=\"id_f6d3348c-677e-4408-9e32-d999dbc74495\">\n",
              "    <style>\n",
              "      .colab-df-generate {\n",
              "        background-color: #E8F0FE;\n",
              "        border: none;\n",
              "        border-radius: 50%;\n",
              "        cursor: pointer;\n",
              "        display: none;\n",
              "        fill: #1967D2;\n",
              "        height: 32px;\n",
              "        padding: 0 0 0 0;\n",
              "        width: 32px;\n",
              "      }\n",
              "\n",
              "      .colab-df-generate:hover {\n",
              "        background-color: #E2EBFA;\n",
              "        box-shadow: 0px 1px 2px rgba(60, 64, 67, 0.3), 0px 1px 3px 1px rgba(60, 64, 67, 0.15);\n",
              "        fill: #174EA6;\n",
              "      }\n",
              "\n",
              "      [theme=dark] .colab-df-generate {\n",
              "        background-color: #3B4455;\n",
              "        fill: #D2E3FC;\n",
              "      }\n",
              "\n",
              "      [theme=dark] .colab-df-generate:hover {\n",
              "        background-color: #434B5C;\n",
              "        box-shadow: 0px 1px 3px 1px rgba(0, 0, 0, 0.15);\n",
              "        filter: drop-shadow(0px 1px 2px rgba(0, 0, 0, 0.3));\n",
              "        fill: #FFFFFF;\n",
              "      }\n",
              "    </style>\n",
              "    <button class=\"colab-df-generate\" onclick=\"generateWithVariable('eco_ind')\"\n",
              "            title=\"Generate code using this dataframe.\"\n",
              "            style=\"display:none;\">\n",
              "\n",
              "  <svg xmlns=\"http://www.w3.org/2000/svg\" height=\"24px\"viewBox=\"0 0 24 24\"\n",
              "       width=\"24px\">\n",
              "    <path d=\"M7,19H8.4L18.45,9,17,7.55,7,17.6ZM5,21V16.75L18.45,3.32a2,2,0,0,1,2.83,0l1.4,1.43a1.91,1.91,0,0,1,.58,1.4,1.91,1.91,0,0,1-.58,1.4L9.25,21ZM18.45,9,17,7.55Zm-12,3A5.31,5.31,0,0,0,4.9,8.1,5.31,5.31,0,0,0,1,6.5,5.31,5.31,0,0,0,4.9,4.9,5.31,5.31,0,0,0,6.5,1,5.31,5.31,0,0,0,8.1,4.9,5.31,5.31,0,0,0,12,6.5,5.46,5.46,0,0,0,6.5,12Z\"/>\n",
              "  </svg>\n",
              "    </button>\n",
              "    <script>\n",
              "      (() => {\n",
              "      const buttonEl =\n",
              "        document.querySelector('#id_f6d3348c-677e-4408-9e32-d999dbc74495 button.colab-df-generate');\n",
              "      buttonEl.style.display =\n",
              "        google.colab.kernel.accessAllowed ? 'block' : 'none';\n",
              "\n",
              "      buttonEl.onclick = () => {\n",
              "        google.colab.notebook.generateWithVariable('eco_ind');\n",
              "      }\n",
              "      })();\n",
              "    </script>\n",
              "  </div>\n",
              "\n",
              "    </div>\n",
              "  </div>\n"
            ],
            "text/plain": [
              "  symbol                   name   price  changesPercentage  change  dayLow  \\\n",
              "0   MSFT  Microsoft Corporation  391.26            1.14259    4.42  382.92   \n",
              "\n",
              "   dayHigh  yearHigh  yearLow      marketCap  ...  exchange    volume  \\\n",
              "0   391.71    468.35   376.91  2908619014800  ...    NASDAQ  38759185   \n",
              "\n",
              "  avgVolume    open  previousClose    eps    pe          earningsAnnouncement  \\\n",
              "0  22370941  384.71         386.84  12.42  31.5  2025-04-23T20:00:00.000+0000   \n",
              "\n",
              "   sharesOutstanding   timestamp  \n",
              "0         7433980000  1742587202  \n",
              "\n",
              "[1 rows x 22 columns]"
            ]
          },
          "execution_count": 55,
          "metadata": {},
          "output_type": "execute_result"
        }
      ],
      "source": [
        "try:\n",
        "    from urllib.request import urlopen\n",
        "except ImportError:\n",
        "    from urllib2 import urlopen\n",
        "\n",
        "import certifi\n",
        "import json\n",
        "import pandas as pd\n",
        "\n",
        "\n",
        "def get_jsonparsed_data(url, api_key, exchange):\n",
        "  if exchange == \"NSE\":\n",
        "    url = f\"https://financialmodelingprep.com/api/v3/search?query={ticker}&exchange=NSE&apikey={api_key}\"\n",
        "  else:\n",
        "    url = f\"https://financialmodelingprep.com/api/v3/quote/{ticker}?apikey={api_key}\"\n",
        "  response = urlopen(url, cafile=certifi.where())\n",
        "  data = response.read().decode(\"utf-8\")\n",
        "  return json.loads(data)\n",
        "\n",
        "api_key=\"\"\n",
        "ticker = \"MSFT\"\n",
        "exchange = \"US\"\n",
        "eco_ind = pd.DataFrame(get_jsonparsed_data(ticker, api_key,exchange))\n",
        "eco_ind\n",
        "\n"
      ]
    },
    {
      "cell_type": "code",
      "execution_count": 56,
      "metadata": {
        "colab": {
          "base_uri": "https://localhost:8080/"
        },
        "id": "0O_oj8O-t74J",
        "outputId": "90f20e42-d98e-4ddf-c08a-302875cbf5d1"
      },
      "outputs": [
        {
          "name": "stdout",
          "output_type": "stream",
          "text": [
            "Requirement already satisfied: langchain in /usr/local/lib/python3.11/dist-packages (0.3.21)\n",
            "Requirement already satisfied: langchain-community in /usr/local/lib/python3.11/dist-packages (0.3.20)\n",
            "Requirement already satisfied: langchain-core in /usr/local/lib/python3.11/dist-packages (0.3.45)\n",
            "Requirement already satisfied: transformers in /usr/local/lib/python3.11/dist-packages (4.49.0)\n",
            "Requirement already satisfied: langchain-text-splitters<1.0.0,>=0.3.7 in /usr/local/lib/python3.11/dist-packages (from langchain) (0.3.7)\n",
            "Requirement already satisfied: langsmith<0.4,>=0.1.17 in /usr/local/lib/python3.11/dist-packages (from langchain) (0.3.15)\n",
            "Requirement already satisfied: pydantic<3.0.0,>=2.7.4 in /usr/local/lib/python3.11/dist-packages (from langchain) (2.10.6)\n",
            "Requirement already satisfied: SQLAlchemy<3,>=1.4 in /usr/local/lib/python3.11/dist-packages (from langchain) (2.0.39)\n",
            "Requirement already satisfied: requests<3,>=2 in /usr/local/lib/python3.11/dist-packages (from langchain) (2.32.3)\n",
            "Requirement already satisfied: PyYAML>=5.3 in /usr/local/lib/python3.11/dist-packages (from langchain) (6.0.2)\n",
            "Requirement already satisfied: aiohttp<4.0.0,>=3.8.3 in /usr/local/lib/python3.11/dist-packages (from langchain-community) (3.11.14)\n",
            "Requirement already satisfied: tenacity!=8.4.0,<10,>=8.1.0 in /usr/local/lib/python3.11/dist-packages (from langchain-community) (9.0.0)\n",
            "Requirement already satisfied: dataclasses-json<0.7,>=0.5.7 in /usr/local/lib/python3.11/dist-packages (from langchain-community) (0.6.7)\n",
            "Requirement already satisfied: pydantic-settings<3.0.0,>=2.4.0 in /usr/local/lib/python3.11/dist-packages (from langchain-community) (2.8.1)\n",
            "Requirement already satisfied: httpx-sse<1.0.0,>=0.4.0 in /usr/local/lib/python3.11/dist-packages (from langchain-community) (0.4.0)\n",
            "Requirement already satisfied: numpy<3,>=1.26.2 in /usr/local/lib/python3.11/dist-packages (from langchain-community) (2.0.2)\n",
            "Requirement already satisfied: jsonpatch<2.0,>=1.33 in /usr/local/lib/python3.11/dist-packages (from langchain-core) (1.33)\n",
            "Requirement already satisfied: packaging<25,>=23.2 in /usr/local/lib/python3.11/dist-packages (from langchain-core) (24.2)\n",
            "Requirement already satisfied: typing-extensions>=4.7 in /usr/local/lib/python3.11/dist-packages (from langchain-core) (4.12.2)\n",
            "Requirement already satisfied: filelock in /usr/local/lib/python3.11/dist-packages (from transformers) (3.18.0)\n",
            "Requirement already satisfied: huggingface-hub<1.0,>=0.26.0 in /usr/local/lib/python3.11/dist-packages (from transformers) (0.29.3)\n",
            "Requirement already satisfied: regex!=2019.12.17 in /usr/local/lib/python3.11/dist-packages (from transformers) (2024.11.6)\n",
            "Requirement already satisfied: tokenizers<0.22,>=0.21 in /usr/local/lib/python3.11/dist-packages (from transformers) (0.21.1)\n",
            "Requirement already satisfied: safetensors>=0.4.1 in /usr/local/lib/python3.11/dist-packages (from transformers) (0.5.3)\n",
            "Requirement already satisfied: tqdm>=4.27 in /usr/local/lib/python3.11/dist-packages (from transformers) (4.67.1)\n",
            "Requirement already satisfied: aiohappyeyeballs>=2.3.0 in /usr/local/lib/python3.11/dist-packages (from aiohttp<4.0.0,>=3.8.3->langchain-community) (2.6.1)\n",
            "Requirement already satisfied: aiosignal>=1.1.2 in /usr/local/lib/python3.11/dist-packages (from aiohttp<4.0.0,>=3.8.3->langchain-community) (1.3.2)\n",
            "Requirement already satisfied: attrs>=17.3.0 in /usr/local/lib/python3.11/dist-packages (from aiohttp<4.0.0,>=3.8.3->langchain-community) (25.3.0)\n",
            "Requirement already satisfied: frozenlist>=1.1.1 in /usr/local/lib/python3.11/dist-packages (from aiohttp<4.0.0,>=3.8.3->langchain-community) (1.5.0)\n",
            "Requirement already satisfied: multidict<7.0,>=4.5 in /usr/local/lib/python3.11/dist-packages (from aiohttp<4.0.0,>=3.8.3->langchain-community) (6.2.0)\n",
            "Requirement already satisfied: propcache>=0.2.0 in /usr/local/lib/python3.11/dist-packages (from aiohttp<4.0.0,>=3.8.3->langchain-community) (0.3.0)\n",
            "Requirement already satisfied: yarl<2.0,>=1.17.0 in /usr/local/lib/python3.11/dist-packages (from aiohttp<4.0.0,>=3.8.3->langchain-community) (1.18.3)\n",
            "Requirement already satisfied: marshmallow<4.0.0,>=3.18.0 in /usr/local/lib/python3.11/dist-packages (from dataclasses-json<0.7,>=0.5.7->langchain-community) (3.26.1)\n",
            "Requirement already satisfied: typing-inspect<1,>=0.4.0 in /usr/local/lib/python3.11/dist-packages (from dataclasses-json<0.7,>=0.5.7->langchain-community) (0.9.0)\n",
            "Requirement already satisfied: fsspec>=2023.5.0 in /usr/local/lib/python3.11/dist-packages (from huggingface-hub<1.0,>=0.26.0->transformers) (2025.3.0)\n",
            "Requirement already satisfied: jsonpointer>=1.9 in /usr/local/lib/python3.11/dist-packages (from jsonpatch<2.0,>=1.33->langchain-core) (3.0.0)\n",
            "Requirement already satisfied: httpx<1,>=0.23.0 in /usr/local/lib/python3.11/dist-packages (from langsmith<0.4,>=0.1.17->langchain) (0.28.1)\n",
            "Requirement already satisfied: orjson<4.0.0,>=3.9.14 in /usr/local/lib/python3.11/dist-packages (from langsmith<0.4,>=0.1.17->langchain) (3.10.15)\n",
            "Requirement already satisfied: requests-toolbelt<2.0.0,>=1.0.0 in /usr/local/lib/python3.11/dist-packages (from langsmith<0.4,>=0.1.17->langchain) (1.0.0)\n",
            "Requirement already satisfied: zstandard<0.24.0,>=0.23.0 in /usr/local/lib/python3.11/dist-packages (from langsmith<0.4,>=0.1.17->langchain) (0.23.0)\n",
            "Requirement already satisfied: annotated-types>=0.6.0 in /usr/local/lib/python3.11/dist-packages (from pydantic<3.0.0,>=2.7.4->langchain) (0.7.0)\n",
            "Requirement already satisfied: pydantic-core==2.27.2 in /usr/local/lib/python3.11/dist-packages (from pydantic<3.0.0,>=2.7.4->langchain) (2.27.2)\n",
            "Requirement already satisfied: python-dotenv>=0.21.0 in /usr/local/lib/python3.11/dist-packages (from pydantic-settings<3.0.0,>=2.4.0->langchain-community) (1.0.1)\n",
            "Requirement already satisfied: charset-normalizer<4,>=2 in /usr/local/lib/python3.11/dist-packages (from requests<3,>=2->langchain) (3.4.1)\n",
            "Requirement already satisfied: idna<4,>=2.5 in /usr/local/lib/python3.11/dist-packages (from requests<3,>=2->langchain) (3.10)\n",
            "Requirement already satisfied: urllib3<3,>=1.21.1 in /usr/local/lib/python3.11/dist-packages (from requests<3,>=2->langchain) (2.3.0)\n",
            "Requirement already satisfied: certifi>=2017.4.17 in /usr/local/lib/python3.11/dist-packages (from requests<3,>=2->langchain) (2025.1.31)\n",
            "Requirement already satisfied: greenlet!=0.4.17 in /usr/local/lib/python3.11/dist-packages (from SQLAlchemy<3,>=1.4->langchain) (3.1.1)\n",
            "Requirement already satisfied: anyio in /usr/local/lib/python3.11/dist-packages (from httpx<1,>=0.23.0->langsmith<0.4,>=0.1.17->langchain) (4.9.0)\n",
            "Requirement already satisfied: httpcore==1.* in /usr/local/lib/python3.11/dist-packages (from httpx<1,>=0.23.0->langsmith<0.4,>=0.1.17->langchain) (1.0.7)\n",
            "Requirement already satisfied: h11<0.15,>=0.13 in /usr/local/lib/python3.11/dist-packages (from httpcore==1.*->httpx<1,>=0.23.0->langsmith<0.4,>=0.1.17->langchain) (0.14.0)\n",
            "Requirement already satisfied: mypy-extensions>=0.3.0 in /usr/local/lib/python3.11/dist-packages (from typing-inspect<1,>=0.4.0->dataclasses-json<0.7,>=0.5.7->langchain-community) (1.0.0)\n",
            "Requirement already satisfied: sniffio>=1.1 in /usr/local/lib/python3.11/dist-packages (from anyio->httpx<1,>=0.23.0->langsmith<0.4,>=0.1.17->langchain) (1.3.1)\n"
          ]
        }
      ],
      "source": [
        "!pip install langchain langchain-community langchain-core transformers"
      ]
    },
    {
      "cell_type": "code",
      "execution_count": 57,
      "metadata": {
        "colab": {
          "base_uri": "https://localhost:8080/",
          "height": 147
        },
        "id": "RuiU32n4uZ2F",
        "outputId": "01afe4cc-2a9b-4f3c-b7b2-422a4cf0d538"
      },
      "outputs": [
        {
          "data": {
            "application/vnd.google.colaboratory.intrinsic+json": {
              "type": "dataframe",
              "variable_name": "eco_ind"
            },
            "text/html": [
              "\n",
              "  <div id=\"df-0ad255b6-137a-4c61-9e9f-6c74e739503c\" class=\"colab-df-container\">\n",
              "    <div>\n",
              "<style scoped>\n",
              "    .dataframe tbody tr th:only-of-type {\n",
              "        vertical-align: middle;\n",
              "    }\n",
              "\n",
              "    .dataframe tbody tr th {\n",
              "        vertical-align: top;\n",
              "    }\n",
              "\n",
              "    .dataframe thead th {\n",
              "        text-align: right;\n",
              "    }\n",
              "</style>\n",
              "<table border=\"1\" class=\"dataframe\">\n",
              "  <thead>\n",
              "    <tr style=\"text-align: right;\">\n",
              "      <th></th>\n",
              "      <th>symbol</th>\n",
              "      <th>name</th>\n",
              "      <th>price</th>\n",
              "      <th>changesPercentage</th>\n",
              "      <th>change</th>\n",
              "      <th>dayLow</th>\n",
              "      <th>dayHigh</th>\n",
              "      <th>yearHigh</th>\n",
              "      <th>yearLow</th>\n",
              "      <th>marketCap</th>\n",
              "      <th>...</th>\n",
              "      <th>exchange</th>\n",
              "      <th>volume</th>\n",
              "      <th>avgVolume</th>\n",
              "      <th>open</th>\n",
              "      <th>previousClose</th>\n",
              "      <th>eps</th>\n",
              "      <th>pe</th>\n",
              "      <th>earningsAnnouncement</th>\n",
              "      <th>sharesOutstanding</th>\n",
              "      <th>timestamp</th>\n",
              "    </tr>\n",
              "  </thead>\n",
              "  <tbody>\n",
              "    <tr>\n",
              "      <th>0</th>\n",
              "      <td>MSFT</td>\n",
              "      <td>Microsoft Corporation</td>\n",
              "      <td>391.26</td>\n",
              "      <td>1.14259</td>\n",
              "      <td>4.42</td>\n",
              "      <td>382.92</td>\n",
              "      <td>391.71</td>\n",
              "      <td>468.35</td>\n",
              "      <td>376.91</td>\n",
              "      <td>2908619014800</td>\n",
              "      <td>...</td>\n",
              "      <td>NASDAQ</td>\n",
              "      <td>38759185</td>\n",
              "      <td>22370941</td>\n",
              "      <td>384.71</td>\n",
              "      <td>386.84</td>\n",
              "      <td>12.42</td>\n",
              "      <td>31.5</td>\n",
              "      <td>2025-04-23 20:00:00+00:00</td>\n",
              "      <td>7433980000</td>\n",
              "      <td>1970-01-01 00:00:01.742587202</td>\n",
              "    </tr>\n",
              "  </tbody>\n",
              "</table>\n",
              "<p>1 rows × 22 columns</p>\n",
              "</div>\n",
              "    <div class=\"colab-df-buttons\">\n",
              "\n",
              "  <div class=\"colab-df-container\">\n",
              "    <button class=\"colab-df-convert\" onclick=\"convertToInteractive('df-0ad255b6-137a-4c61-9e9f-6c74e739503c')\"\n",
              "            title=\"Convert this dataframe to an interactive table.\"\n",
              "            style=\"display:none;\">\n",
              "\n",
              "  <svg xmlns=\"http://www.w3.org/2000/svg\" height=\"24px\" viewBox=\"0 -960 960 960\">\n",
              "    <path d=\"M120-120v-720h720v720H120Zm60-500h600v-160H180v160Zm220 220h160v-160H400v160Zm0 220h160v-160H400v160ZM180-400h160v-160H180v160Zm440 0h160v-160H620v160ZM180-180h160v-160H180v160Zm440 0h160v-160H620v160Z\"/>\n",
              "  </svg>\n",
              "    </button>\n",
              "\n",
              "  <style>\n",
              "    .colab-df-container {\n",
              "      display:flex;\n",
              "      gap: 12px;\n",
              "    }\n",
              "\n",
              "    .colab-df-convert {\n",
              "      background-color: #E8F0FE;\n",
              "      border: none;\n",
              "      border-radius: 50%;\n",
              "      cursor: pointer;\n",
              "      display: none;\n",
              "      fill: #1967D2;\n",
              "      height: 32px;\n",
              "      padding: 0 0 0 0;\n",
              "      width: 32px;\n",
              "    }\n",
              "\n",
              "    .colab-df-convert:hover {\n",
              "      background-color: #E2EBFA;\n",
              "      box-shadow: 0px 1px 2px rgba(60, 64, 67, 0.3), 0px 1px 3px 1px rgba(60, 64, 67, 0.15);\n",
              "      fill: #174EA6;\n",
              "    }\n",
              "\n",
              "    .colab-df-buttons div {\n",
              "      margin-bottom: 4px;\n",
              "    }\n",
              "\n",
              "    [theme=dark] .colab-df-convert {\n",
              "      background-color: #3B4455;\n",
              "      fill: #D2E3FC;\n",
              "    }\n",
              "\n",
              "    [theme=dark] .colab-df-convert:hover {\n",
              "      background-color: #434B5C;\n",
              "      box-shadow: 0px 1px 3px 1px rgba(0, 0, 0, 0.15);\n",
              "      filter: drop-shadow(0px 1px 2px rgba(0, 0, 0, 0.3));\n",
              "      fill: #FFFFFF;\n",
              "    }\n",
              "  </style>\n",
              "\n",
              "    <script>\n",
              "      const buttonEl =\n",
              "        document.querySelector('#df-0ad255b6-137a-4c61-9e9f-6c74e739503c button.colab-df-convert');\n",
              "      buttonEl.style.display =\n",
              "        google.colab.kernel.accessAllowed ? 'block' : 'none';\n",
              "\n",
              "      async function convertToInteractive(key) {\n",
              "        const element = document.querySelector('#df-0ad255b6-137a-4c61-9e9f-6c74e739503c');\n",
              "        const dataTable =\n",
              "          await google.colab.kernel.invokeFunction('convertToInteractive',\n",
              "                                                    [key], {});\n",
              "        if (!dataTable) return;\n",
              "\n",
              "        const docLinkHtml = 'Like what you see? Visit the ' +\n",
              "          '<a target=\"_blank\" href=https://colab.research.google.com/notebooks/data_table.ipynb>data table notebook</a>'\n",
              "          + ' to learn more about interactive tables.';\n",
              "        element.innerHTML = '';\n",
              "        dataTable['output_type'] = 'display_data';\n",
              "        await google.colab.output.renderOutput(dataTable, element);\n",
              "        const docLink = document.createElement('div');\n",
              "        docLink.innerHTML = docLinkHtml;\n",
              "        element.appendChild(docLink);\n",
              "      }\n",
              "    </script>\n",
              "  </div>\n",
              "\n",
              "\n",
              "  <div id=\"id_9e03653f-aa40-4b1d-9f7c-165817e3a068\">\n",
              "    <style>\n",
              "      .colab-df-generate {\n",
              "        background-color: #E8F0FE;\n",
              "        border: none;\n",
              "        border-radius: 50%;\n",
              "        cursor: pointer;\n",
              "        display: none;\n",
              "        fill: #1967D2;\n",
              "        height: 32px;\n",
              "        padding: 0 0 0 0;\n",
              "        width: 32px;\n",
              "      }\n",
              "\n",
              "      .colab-df-generate:hover {\n",
              "        background-color: #E2EBFA;\n",
              "        box-shadow: 0px 1px 2px rgba(60, 64, 67, 0.3), 0px 1px 3px 1px rgba(60, 64, 67, 0.15);\n",
              "        fill: #174EA6;\n",
              "      }\n",
              "\n",
              "      [theme=dark] .colab-df-generate {\n",
              "        background-color: #3B4455;\n",
              "        fill: #D2E3FC;\n",
              "      }\n",
              "\n",
              "      [theme=dark] .colab-df-generate:hover {\n",
              "        background-color: #434B5C;\n",
              "        box-shadow: 0px 1px 3px 1px rgba(0, 0, 0, 0.15);\n",
              "        filter: drop-shadow(0px 1px 2px rgba(0, 0, 0, 0.3));\n",
              "        fill: #FFFFFF;\n",
              "      }\n",
              "    </style>\n",
              "    <button class=\"colab-df-generate\" onclick=\"generateWithVariable('eco_ind')\"\n",
              "            title=\"Generate code using this dataframe.\"\n",
              "            style=\"display:none;\">\n",
              "\n",
              "  <svg xmlns=\"http://www.w3.org/2000/svg\" height=\"24px\"viewBox=\"0 0 24 24\"\n",
              "       width=\"24px\">\n",
              "    <path d=\"M7,19H8.4L18.45,9,17,7.55,7,17.6ZM5,21V16.75L18.45,3.32a2,2,0,0,1,2.83,0l1.4,1.43a1.91,1.91,0,0,1,.58,1.4,1.91,1.91,0,0,1-.58,1.4L9.25,21ZM18.45,9,17,7.55Zm-12,3A5.31,5.31,0,0,0,4.9,8.1,5.31,5.31,0,0,0,1,6.5,5.31,5.31,0,0,0,4.9,4.9,5.31,5.31,0,0,0,6.5,1,5.31,5.31,0,0,0,8.1,4.9,5.31,5.31,0,0,0,12,6.5,5.46,5.46,0,0,0,6.5,12Z\"/>\n",
              "  </svg>\n",
              "    </button>\n",
              "    <script>\n",
              "      (() => {\n",
              "      const buttonEl =\n",
              "        document.querySelector('#id_9e03653f-aa40-4b1d-9f7c-165817e3a068 button.colab-df-generate');\n",
              "      buttonEl.style.display =\n",
              "        google.colab.kernel.accessAllowed ? 'block' : 'none';\n",
              "\n",
              "      buttonEl.onclick = () => {\n",
              "        google.colab.notebook.generateWithVariable('eco_ind');\n",
              "      }\n",
              "      })();\n",
              "    </script>\n",
              "  </div>\n",
              "\n",
              "    </div>\n",
              "  </div>\n"
            ],
            "text/plain": [
              "  symbol                   name   price  changesPercentage  change  dayLow  \\\n",
              "0   MSFT  Microsoft Corporation  391.26            1.14259    4.42  382.92   \n",
              "\n",
              "   dayHigh  yearHigh  yearLow      marketCap  ...  exchange    volume  \\\n",
              "0   391.71    468.35   376.91  2908619014800  ...    NASDAQ  38759185   \n",
              "\n",
              "  avgVolume    open  previousClose    eps    pe      earningsAnnouncement  \\\n",
              "0  22370941  384.71         386.84  12.42  31.5 2025-04-23 20:00:00+00:00   \n",
              "\n",
              "   sharesOutstanding                     timestamp  \n",
              "0         7433980000 1970-01-01 00:00:01.742587202  \n",
              "\n",
              "[1 rows x 22 columns]"
            ]
          },
          "execution_count": 57,
          "metadata": {},
          "output_type": "execute_result"
        }
      ],
      "source": [
        "def preprocess_economic_data(df):\n",
        "    df['timestamp'] = pd.to_datetime(df['timestamp'])\n",
        "    df['earningsAnnouncement'] = pd.to_datetime(df['earningsAnnouncement'])\n",
        "    return df\n",
        "\n",
        "preprocessed_economic_df = preprocess_economic_data(eco_ind)\n",
        "preprocessed_economic_df"
      ]
    },
    {
      "cell_type": "code",
      "execution_count": 58,
      "metadata": {
        "id": "1WBBZhCMuo1y"
      },
      "outputs": [],
      "source": [
        "preprocessed_economic_df.to_csv(\"eco_ind.csv\")"
      ]
    },
    {
      "cell_type": "code",
      "execution_count": 59,
      "metadata": {
        "id": "d8wPYkJtusRH"
      },
      "outputs": [],
      "source": [
        "\n",
        "%pip install --upgrade --quiet  langchain sentence_transformers"
      ]
    },
    {
      "cell_type": "code",
      "execution_count": 60,
      "metadata": {
        "id": "fFFKefEXvYTf"
      },
      "outputs": [],
      "source": [
        "\n",
        "from langchain_community.embeddings import HuggingFaceEmbeddings\n",
        "hg_embeddings = HuggingFaceEmbeddings()"
      ]
    },
    {
      "cell_type": "code",
      "execution_count": 61,
      "metadata": {
        "id": "ioA2xZE1xkTd"
      },
      "outputs": [],
      "source": [
        "from langchain.document_loaders import CSVLoader\n",
        "from langchain.text_splitter import RecursiveCharacterTextSplitter\n",
        "loader_eco = CSVLoader('eco_ind.csv')\n",
        "documents_eco = loader_eco.load()\n",
        "\n",
        "# Get your splitter ready\n",
        "text_splitter = RecursiveCharacterTextSplitter(chunk_size=50, chunk_overlap=5)\n",
        "\n",
        "# Split your docs into texts\n",
        "texts_eco = text_splitter.split_documents(documents_eco)\n",
        "\n",
        "# Embeddings\n",
        "embeddings = HuggingFaceEmbeddings()\n",
        "\n"
      ]
    },
    {
      "cell_type": "code",
      "execution_count": 62,
      "metadata": {
        "id": "PTfFiI5Lx226"
      },
      "outputs": [],
      "source": [
        "\n",
        "from langchain.vectorstores import Chroma\n",
        "\n",
        "persist_directory = 'docs/chroma_rag/'"
      ]
    },
    {
      "cell_type": "code",
      "execution_count": 63,
      "metadata": {
        "colab": {
          "base_uri": "https://localhost:8080/"
        },
        "id": "Luy-d5oYyfMh",
        "outputId": "57da3078-81ee-43ce-f45a-b5f5a8adf277"
      },
      "outputs": [
        {
          "name": "stdout",
          "output_type": "stream",
          "text": [
            "Requirement already satisfied: chromadb in /usr/local/lib/python3.11/dist-packages (0.6.3)\n",
            "Requirement already satisfied: build>=1.0.3 in /usr/local/lib/python3.11/dist-packages (from chromadb) (1.2.2.post1)\n",
            "Requirement already satisfied: pydantic>=1.9 in /usr/local/lib/python3.11/dist-packages (from chromadb) (2.10.6)\n",
            "Requirement already satisfied: chroma-hnswlib==0.7.6 in /usr/local/lib/python3.11/dist-packages (from chromadb) (0.7.6)\n",
            "Requirement already satisfied: fastapi>=0.95.2 in /usr/local/lib/python3.11/dist-packages (from chromadb) (0.115.11)\n",
            "Requirement already satisfied: uvicorn>=0.18.3 in /usr/local/lib/python3.11/dist-packages (from uvicorn[standard]>=0.18.3->chromadb) (0.34.0)\n",
            "Requirement already satisfied: numpy>=1.22.5 in /usr/local/lib/python3.11/dist-packages (from chromadb) (2.0.2)\n",
            "Requirement already satisfied: posthog>=2.4.0 in /usr/local/lib/python3.11/dist-packages (from chromadb) (3.21.0)\n",
            "Requirement already satisfied: typing_extensions>=4.5.0 in /usr/local/lib/python3.11/dist-packages (from chromadb) (4.12.2)\n",
            "Requirement already satisfied: onnxruntime>=1.14.1 in /usr/local/lib/python3.11/dist-packages (from chromadb) (1.21.0)\n",
            "Requirement already satisfied: opentelemetry-api>=1.2.0 in /usr/local/lib/python3.11/dist-packages (from chromadb) (1.31.1)\n",
            "Requirement already satisfied: opentelemetry-exporter-otlp-proto-grpc>=1.2.0 in /usr/local/lib/python3.11/dist-packages (from chromadb) (1.31.1)\n",
            "Requirement already satisfied: opentelemetry-instrumentation-fastapi>=0.41b0 in /usr/local/lib/python3.11/dist-packages (from chromadb) (0.52b1)\n",
            "Requirement already satisfied: opentelemetry-sdk>=1.2.0 in /usr/local/lib/python3.11/dist-packages (from chromadb) (1.31.1)\n",
            "Requirement already satisfied: tokenizers>=0.13.2 in /usr/local/lib/python3.11/dist-packages (from chromadb) (0.21.1)\n",
            "Requirement already satisfied: pypika>=0.48.9 in /usr/local/lib/python3.11/dist-packages (from chromadb) (0.48.9)\n",
            "Requirement already satisfied: tqdm>=4.65.0 in /usr/local/lib/python3.11/dist-packages (from chromadb) (4.67.1)\n",
            "Requirement already satisfied: overrides>=7.3.1 in /usr/local/lib/python3.11/dist-packages (from chromadb) (7.7.0)\n",
            "Requirement already satisfied: importlib-resources in /usr/local/lib/python3.11/dist-packages (from chromadb) (6.5.2)\n",
            "Requirement already satisfied: grpcio>=1.58.0 in /usr/local/lib/python3.11/dist-packages (from chromadb) (1.71.0)\n",
            "Requirement already satisfied: bcrypt>=4.0.1 in /usr/local/lib/python3.11/dist-packages (from chromadb) (4.3.0)\n",
            "Requirement already satisfied: typer>=0.9.0 in /usr/local/lib/python3.11/dist-packages (from chromadb) (0.15.2)\n",
            "Requirement already satisfied: kubernetes>=28.1.0 in /usr/local/lib/python3.11/dist-packages (from chromadb) (32.0.1)\n",
            "Requirement already satisfied: tenacity>=8.2.3 in /usr/local/lib/python3.11/dist-packages (from chromadb) (9.0.0)\n",
            "Requirement already satisfied: PyYAML>=6.0.0 in /usr/local/lib/python3.11/dist-packages (from chromadb) (6.0.2)\n",
            "Requirement already satisfied: mmh3>=4.0.1 in /usr/local/lib/python3.11/dist-packages (from chromadb) (5.1.0)\n",
            "Requirement already satisfied: orjson>=3.9.12 in /usr/local/lib/python3.11/dist-packages (from chromadb) (3.10.15)\n",
            "Requirement already satisfied: httpx>=0.27.0 in /usr/local/lib/python3.11/dist-packages (from chromadb) (0.28.1)\n",
            "Requirement already satisfied: rich>=10.11.0 in /usr/local/lib/python3.11/dist-packages (from chromadb) (13.9.4)\n",
            "Requirement already satisfied: packaging>=19.1 in /usr/local/lib/python3.11/dist-packages (from build>=1.0.3->chromadb) (24.2)\n",
            "Requirement already satisfied: pyproject_hooks in /usr/local/lib/python3.11/dist-packages (from build>=1.0.3->chromadb) (1.2.0)\n",
            "Requirement already satisfied: starlette<0.47.0,>=0.40.0 in /usr/local/lib/python3.11/dist-packages (from fastapi>=0.95.2->chromadb) (0.46.1)\n",
            "Requirement already satisfied: anyio in /usr/local/lib/python3.11/dist-packages (from httpx>=0.27.0->chromadb) (4.9.0)\n",
            "Requirement already satisfied: certifi in /usr/local/lib/python3.11/dist-packages (from httpx>=0.27.0->chromadb) (2025.1.31)\n",
            "Requirement already satisfied: httpcore==1.* in /usr/local/lib/python3.11/dist-packages (from httpx>=0.27.0->chromadb) (1.0.7)\n",
            "Requirement already satisfied: idna in /usr/local/lib/python3.11/dist-packages (from httpx>=0.27.0->chromadb) (3.10)\n",
            "Requirement already satisfied: h11<0.15,>=0.13 in /usr/local/lib/python3.11/dist-packages (from httpcore==1.*->httpx>=0.27.0->chromadb) (0.14.0)\n",
            "Requirement already satisfied: six>=1.9.0 in /usr/local/lib/python3.11/dist-packages (from kubernetes>=28.1.0->chromadb) (1.17.0)\n",
            "Requirement already satisfied: python-dateutil>=2.5.3 in /usr/local/lib/python3.11/dist-packages (from kubernetes>=28.1.0->chromadb) (2.8.2)\n",
            "Requirement already satisfied: google-auth>=1.0.1 in /usr/local/lib/python3.11/dist-packages (from kubernetes>=28.1.0->chromadb) (2.38.0)\n",
            "Requirement already satisfied: websocket-client!=0.40.0,!=0.41.*,!=0.42.*,>=0.32.0 in /usr/local/lib/python3.11/dist-packages (from kubernetes>=28.1.0->chromadb) (1.8.0)\n",
            "Requirement already satisfied: requests in /usr/local/lib/python3.11/dist-packages (from kubernetes>=28.1.0->chromadb) (2.32.3)\n",
            "Requirement already satisfied: requests-oauthlib in /usr/local/lib/python3.11/dist-packages (from kubernetes>=28.1.0->chromadb) (2.0.0)\n",
            "Requirement already satisfied: oauthlib>=3.2.2 in /usr/local/lib/python3.11/dist-packages (from kubernetes>=28.1.0->chromadb) (3.2.2)\n",
            "Requirement already satisfied: urllib3>=1.24.2 in /usr/local/lib/python3.11/dist-packages (from kubernetes>=28.1.0->chromadb) (2.3.0)\n",
            "Requirement already satisfied: durationpy>=0.7 in /usr/local/lib/python3.11/dist-packages (from kubernetes>=28.1.0->chromadb) (0.9)\n",
            "Requirement already satisfied: coloredlogs in /usr/local/lib/python3.11/dist-packages (from onnxruntime>=1.14.1->chromadb) (15.0.1)\n",
            "Requirement already satisfied: flatbuffers in /usr/local/lib/python3.11/dist-packages (from onnxruntime>=1.14.1->chromadb) (25.2.10)\n",
            "Requirement already satisfied: protobuf in /usr/local/lib/python3.11/dist-packages (from onnxruntime>=1.14.1->chromadb) (5.29.3)\n",
            "Requirement already satisfied: sympy in /usr/local/lib/python3.11/dist-packages (from onnxruntime>=1.14.1->chromadb) (1.13.1)\n",
            "Requirement already satisfied: deprecated>=1.2.6 in /usr/local/lib/python3.11/dist-packages (from opentelemetry-api>=1.2.0->chromadb) (1.2.18)\n",
            "Requirement already satisfied: importlib-metadata<8.7.0,>=6.0 in /usr/local/lib/python3.11/dist-packages (from opentelemetry-api>=1.2.0->chromadb) (8.6.1)\n",
            "Requirement already satisfied: googleapis-common-protos~=1.52 in /usr/local/lib/python3.11/dist-packages (from opentelemetry-exporter-otlp-proto-grpc>=1.2.0->chromadb) (1.69.2)\n",
            "Requirement already satisfied: opentelemetry-exporter-otlp-proto-common==1.31.1 in /usr/local/lib/python3.11/dist-packages (from opentelemetry-exporter-otlp-proto-grpc>=1.2.0->chromadb) (1.31.1)\n",
            "Requirement already satisfied: opentelemetry-proto==1.31.1 in /usr/local/lib/python3.11/dist-packages (from opentelemetry-exporter-otlp-proto-grpc>=1.2.0->chromadb) (1.31.1)\n",
            "Requirement already satisfied: opentelemetry-instrumentation-asgi==0.52b1 in /usr/local/lib/python3.11/dist-packages (from opentelemetry-instrumentation-fastapi>=0.41b0->chromadb) (0.52b1)\n",
            "Requirement already satisfied: opentelemetry-instrumentation==0.52b1 in /usr/local/lib/python3.11/dist-packages (from opentelemetry-instrumentation-fastapi>=0.41b0->chromadb) (0.52b1)\n",
            "Requirement already satisfied: opentelemetry-semantic-conventions==0.52b1 in /usr/local/lib/python3.11/dist-packages (from opentelemetry-instrumentation-fastapi>=0.41b0->chromadb) (0.52b1)\n",
            "Requirement already satisfied: opentelemetry-util-http==0.52b1 in /usr/local/lib/python3.11/dist-packages (from opentelemetry-instrumentation-fastapi>=0.41b0->chromadb) (0.52b1)\n",
            "Requirement already satisfied: wrapt<2.0.0,>=1.0.0 in /usr/local/lib/python3.11/dist-packages (from opentelemetry-instrumentation==0.52b1->opentelemetry-instrumentation-fastapi>=0.41b0->chromadb) (1.17.2)\n",
            "Requirement already satisfied: asgiref~=3.0 in /usr/local/lib/python3.11/dist-packages (from opentelemetry-instrumentation-asgi==0.52b1->opentelemetry-instrumentation-fastapi>=0.41b0->chromadb) (3.8.1)\n",
            "Requirement already satisfied: monotonic>=1.5 in /usr/local/lib/python3.11/dist-packages (from posthog>=2.4.0->chromadb) (1.6)\n",
            "Requirement already satisfied: backoff>=1.10.0 in /usr/local/lib/python3.11/dist-packages (from posthog>=2.4.0->chromadb) (2.2.1)\n",
            "Requirement already satisfied: distro>=1.5.0 in /usr/local/lib/python3.11/dist-packages (from posthog>=2.4.0->chromadb) (1.9.0)\n",
            "Requirement already satisfied: annotated-types>=0.6.0 in /usr/local/lib/python3.11/dist-packages (from pydantic>=1.9->chromadb) (0.7.0)\n",
            "Requirement already satisfied: pydantic-core==2.27.2 in /usr/local/lib/python3.11/dist-packages (from pydantic>=1.9->chromadb) (2.27.2)\n",
            "Requirement already satisfied: markdown-it-py>=2.2.0 in /usr/local/lib/python3.11/dist-packages (from rich>=10.11.0->chromadb) (3.0.0)\n",
            "Requirement already satisfied: pygments<3.0.0,>=2.13.0 in /usr/local/lib/python3.11/dist-packages (from rich>=10.11.0->chromadb) (2.18.0)\n",
            "Requirement already satisfied: huggingface-hub<1.0,>=0.16.4 in /usr/local/lib/python3.11/dist-packages (from tokenizers>=0.13.2->chromadb) (0.29.3)\n",
            "Requirement already satisfied: click>=8.0.0 in /usr/local/lib/python3.11/dist-packages (from typer>=0.9.0->chromadb) (8.1.8)\n",
            "Requirement already satisfied: shellingham>=1.3.0 in /usr/local/lib/python3.11/dist-packages (from typer>=0.9.0->chromadb) (1.5.4)\n",
            "Requirement already satisfied: httptools>=0.6.3 in /usr/local/lib/python3.11/dist-packages (from uvicorn[standard]>=0.18.3->chromadb) (0.6.4)\n",
            "Requirement already satisfied: python-dotenv>=0.13 in /usr/local/lib/python3.11/dist-packages (from uvicorn[standard]>=0.18.3->chromadb) (1.0.1)\n",
            "Requirement already satisfied: uvloop!=0.15.0,!=0.15.1,>=0.14.0 in /usr/local/lib/python3.11/dist-packages (from uvicorn[standard]>=0.18.3->chromadb) (0.21.0)\n",
            "Requirement already satisfied: watchfiles>=0.13 in /usr/local/lib/python3.11/dist-packages (from uvicorn[standard]>=0.18.3->chromadb) (1.0.4)\n",
            "Requirement already satisfied: websockets>=10.4 in /usr/local/lib/python3.11/dist-packages (from uvicorn[standard]>=0.18.3->chromadb) (14.2)\n",
            "Requirement already satisfied: cachetools<6.0,>=2.0.0 in /usr/local/lib/python3.11/dist-packages (from google-auth>=1.0.1->kubernetes>=28.1.0->chromadb) (5.5.2)\n",
            "Requirement already satisfied: pyasn1-modules>=0.2.1 in /usr/local/lib/python3.11/dist-packages (from google-auth>=1.0.1->kubernetes>=28.1.0->chromadb) (0.4.1)\n",
            "Requirement already satisfied: rsa<5,>=3.1.4 in /usr/local/lib/python3.11/dist-packages (from google-auth>=1.0.1->kubernetes>=28.1.0->chromadb) (4.9)\n",
            "Requirement already satisfied: filelock in /usr/local/lib/python3.11/dist-packages (from huggingface-hub<1.0,>=0.16.4->tokenizers>=0.13.2->chromadb) (3.18.0)\n",
            "Requirement already satisfied: fsspec>=2023.5.0 in /usr/local/lib/python3.11/dist-packages (from huggingface-hub<1.0,>=0.16.4->tokenizers>=0.13.2->chromadb) (2025.3.0)\n",
            "Requirement already satisfied: zipp>=3.20 in /usr/local/lib/python3.11/dist-packages (from importlib-metadata<8.7.0,>=6.0->opentelemetry-api>=1.2.0->chromadb) (3.21.0)\n",
            "Requirement already satisfied: mdurl~=0.1 in /usr/local/lib/python3.11/dist-packages (from markdown-it-py>=2.2.0->rich>=10.11.0->chromadb) (0.1.2)\n",
            "Requirement already satisfied: charset-normalizer<4,>=2 in /usr/local/lib/python3.11/dist-packages (from requests->kubernetes>=28.1.0->chromadb) (3.4.1)\n",
            "Requirement already satisfied: sniffio>=1.1 in /usr/local/lib/python3.11/dist-packages (from anyio->httpx>=0.27.0->chromadb) (1.3.1)\n",
            "Requirement already satisfied: humanfriendly>=9.1 in /usr/local/lib/python3.11/dist-packages (from coloredlogs->onnxruntime>=1.14.1->chromadb) (10.0)\n",
            "Requirement already satisfied: mpmath<1.4,>=1.1.0 in /usr/local/lib/python3.11/dist-packages (from sympy->onnxruntime>=1.14.1->chromadb) (1.3.0)\n",
            "Requirement already satisfied: pyasn1<0.7.0,>=0.4.6 in /usr/local/lib/python3.11/dist-packages (from pyasn1-modules>=0.2.1->google-auth>=1.0.1->kubernetes>=28.1.0->chromadb) (0.6.1)\n"
          ]
        }
      ],
      "source": [
        "pip install chromadb"
      ]
    },
    {
      "cell_type": "code",
      "execution_count": 64,
      "metadata": {
        "id": "9kc5iDWUx5S5"
      },
      "outputs": [],
      "source": [
        "economic_langchain_chroma = Chroma.from_documents(\n",
        "    documents=texts_eco,\n",
        "    collection_name=\"economic_data\",\n",
        "    embedding=hg_embeddings,\n",
        "    persist_directory=persist_directory\n",
        ")"
      ]
    },
    {
      "cell_type": "code",
      "execution_count": 65,
      "metadata": {
        "id": "pMRH4hS4x7RJ"
      },
      "outputs": [],
      "source": [
        "\n",
        "question = \"Microsoft(MSFT)\"\n",
        "docs_eco = economic_langchain_chroma.similarity_search(question,k=3)\n"
      ]
    },
    {
      "cell_type": "code",
      "execution_count": null,
      "metadata": {
        "id": "WK7cl2_fx9G6"
      },
      "outputs": [],
      "source": [
        "\n",
        "from langchain.chains import RetrievalQA\n",
        "from langchain.prompts import PromptTemplate\n",
        "from langchain_community.llms import HuggingFaceHub\n",
        "from IPython.display import display, Markdown\n",
        "import os\n",
        "import warnings\n",
        "warnings.filterwarnings('ignore')\n",
        "\n",
        "os.environ[\"HUGGINGFACEHUB_API_TOKEN\"] = \"\"\n",
        "\n",
        "llm = HuggingFaceHub(\n",
        "    repo_id=\"tiiuae/falcon-7b-instruct\",\n",
        "    model_kwargs={\"temperature\": 0.1},\n",
        ")\n",
        "\n",
        "retriever_eco = economic_langchain_chroma.as_retriever(search_kwargs={\"k\":2})\n",
        "qs=\"Microsoft(MSFT) Financial Report\"\n",
        "template = \"\"\"You are a Financial Market Expert and Get the Market Economic Data and Market News about Company and Build the Financial Report for me.\n",
        "              Understand this Market Information {context} and Answer the Query for this Company {question}. i just need the data into Tabular Form as well.\"\"\"\n",
        "\n",
        "PROMPT = PromptTemplate(input_variables=[\"context\",\"question\"], template=template)\n",
        "qa_with_sources = RetrievalQA.from_chain_type(llm=llm, chain_type=\"stuff\",chain_type_kwargs = {\"prompt\": PROMPT}, retriever=retriever_eco, return_source_documents=True)\n",
        "llm_response = qa_with_sources({\"query\": qs})\n"
      ]
    },
    {
      "cell_type": "code",
      "execution_count": 67,
      "metadata": {
        "colab": {
          "base_uri": "https://localhost:8080/",
          "height": 650
        },
        "id": "cfBDGqQiyrL6",
        "outputId": "c15adb37-0996-421e-cb55-e86133c02347"
      },
      "outputs": [
        {
          "data": {
            "text/markdown": [
              "You are a Financial Market Expert and Get the Market Economic Data and Market News about Company and Build the Financial Report for me.\n",
              "              Understand this Market Information : 0\n",
              "symbol: MSFT\n",
              "name: Microsoft Corporation\n",
              "\n",
              ": 0\n",
              "symbol: MSFT\n",
              "name: Microsoft Corporation and Answer the Query for this Company Microsoft(MSFT) Financial Report. i just need the data into Tabular Form as well.\n",
              "As a Financial Market Expert, I can provide you with the following information about Microsoft Corporation:\n",
              "\n",
              "1. Financial Report: Microsoft Corporation is a leading technology company that develops, manufactures, and sells computer software, consumer electronics, and online services. The company's products include Windows, Office, Xbox, and Surface. As of 2021, Microsoft Corporation has a market capitalization of $2.5 trillion.\n",
              "\n",
              "2. Market Information: Microsoft Corporation (MSFT) is a leading technology company that develops, manufactures, and sells computer software, consumer electronics, and online services. The company's products include Windows, Office, Xbox, and Surface. As of 2021, Microsoft Corporation has a market capitalization of $2.5 trillion.\n",
              "\n",
              "3. Financial Report: Microsoft Corporation (MSFT) reported its fourth-quarter and fiscal year 2021 results on January 27, 2022. The company reported a 21% increase in revenue to $81.7 billion, with a 32% increase in operating income to $32.9 billion. Microsoft Corporation's (MSFT) fiscal year ends on June 30, 2022.\n",
              "\n",
              "4. Market Information: Microsoft Corporation (MSFT) is a leading technology company that develops, manufactures, and sells computer software, consumer electronics, and online services. The company's products include Windows, Office, Xbox, and Surface. As of 2021, Microsoft Corporation has a market capitalization of $2.5 trillion.\n",
              "\n",
              "5. Financial Report: Microsoft Corporation (MSFT) reported its first-quarter fiscal year 2022 results on July 21, 2021. The company reported a 21% increase in revenue to $81.7 billion, with a 32% increase in operating income to $32.9 billion. Microsoft Corporation's (MSFT) fiscal year ends on June 30, 2022.\n",
              "\n",
              "6. Market Information: Microsoft Corporation (MSFT) is a leading technology company that develops, manufactures, and sells computer software, consumer electronics, and online services. The company's products include Windows, Office, Xbox, and Surface. As of 2021, Microsoft Corporation has a market capitalization of $2.5 trillion.\n",
              "\n",
              "7. Financial Report: Microsoft Corporation (MSFT) reported its third-quarter fiscal year 2022 results on October 28, 2021. The company reported a 21% increase in revenue to $81.7 billion, with a 32% increase in operating income to $32.9 billion. Microsoft Corporation's (MSFT) fiscal year ends on June 30, 2022.\n",
              "\n",
              "8. Market Information: Microsoft Corporation (MSFT) is a leading technology company that develops, manufactures, and sells computer software, consumer electronics, and online services. The company's products include Windows, Office, Xbox, and Surface. As of 2021, Microsoft Corporation has a market capitalization of $2.5 trillion.\n",
              "\n",
              "9. Financial Report: Microsoft Corporation (MSFT) reported its second-quarter fiscal year 2022 results on July 21, 2021. The company reported a 21% increase in revenue to $81.7 billion, with a 32% increase in operating income to $32.9 billion. Microsoft Corporation's (MSFT) fiscal year ends on June 30, 2022.\n",
              "\n",
              "10. Market Information: Microsoft Corporation (MSFT) is a leading technology company that develops, manufactures, and sells computer software, consumer electronics, and online services. The company's products include Windows, Office, Xbox, and Surface. As of 2021, Microsoft Corporation has a market capitalization of $2.5 trillion."
            ],
            "text/plain": [
              "<IPython.core.display.Markdown object>"
            ]
          },
          "execution_count": 67,
          "metadata": {},
          "output_type": "execute_result"
        }
      ],
      "source": [
        "Markdown(llm_response['result'])"
      ]
    },
    {
      "cell_type": "markdown",
      "metadata": {
        "id": "kLC7OXnlOFuL"
      },
      "source": [
        "1. Automated Anomaly Detection and Risk Assessment"
      ]
    },
    {
      "cell_type": "code",
      "execution_count": 70,
      "metadata": {
        "colab": {
          "base_uri": "https://localhost:8080/",
          "height": 673
        },
        "id": "wFMqHmxDOFbF",
        "outputId": "912760c3-9c34-4589-b195-6a2f80af6abf"
      },
      "outputs": [
        {
          "data": {
            "image/png": "[encoded data removed]",
            "text/plain": [
              "<Figure size 1000x600 with 1 Axes>"
            ]
          },
          "metadata": {},
          "output_type": "display_data"
        },
        {
          "name": "stdout",
          "output_type": "stream",
          "text": [
            "Anomalies detected: Empty DataFrame\n",
            "Columns: [Unnamed: 0, symbol, name, price, changesPercentage, change, dayLow, dayHigh, yearHigh, yearLow, marketCap, priceAvg50, priceAvg200, exchange, volume, avgVolume, open, previousClose, eps, pe, earningsAnnouncement, sharesOutstanding, timestamp, anomaly]\n",
            "Index: []\n",
            "\n",
            "[0 rows x 24 columns]\n"
          ]
        }
      ],
      "source": [
        "from sklearn.ensemble import IsolationForest\n",
        "import pandas as pd\n",
        "import matplotlib.pyplot as plt\n",
        "\n",
        "# Load the preprocessed data\n",
        "df = pd.read_csv(\"eco_ind.csv\")\n",
        "\n",
        "# Selecting relevant features for anomaly detection\n",
        "# Assuming 'price', 'marketCap', 'volume', 'eps' are useful for anomaly detection\n",
        "features = df[['price', 'marketCap', 'volume', 'eps']]\n",
        "\n",
        "# Normalize the data if required\n",
        "from sklearn.preprocessing import StandardScaler\n",
        "scaler = StandardScaler()\n",
        "features_scaled = scaler.fit_transform(features)\n",
        "\n",
        "# Apply Isolation Forest\n",
        "model = IsolationForest(contamination=0.05)  # 5% of data considered as anomalies\n",
        "model.fit(features_scaled)\n",
        "\n",
        "# Predict anomalies (1: normal, -1: anomaly)\n",
        "df['anomaly'] = model.predict(features_scaled)\n",
        "\n",
        "# Visualize anomalies\n",
        "plt.figure(figsize=(10, 6))\n",
        "plt.scatter(df.index, df['price'], c=df['anomaly'], cmap='coolwarm', label='Anomalies')\n",
        "plt.title('Anomaly Detection in Microsoft Stock Data')\n",
        "plt.xlabel('Index')\n",
        "plt.ylabel('Price')\n",
        "plt.legend()\n",
        "plt.show()\n",
        "\n",
        "# Show anomalous rows\n",
        "anomalies = df[df['anomaly'] == -1]\n",
        "print(\"Anomalies detected:\", anomalies)\n"
      ]
    },
    {
      "cell_type": "markdown",
      "metadata": {
        "id": "chvv1hPHONFI"
      },
      "source": [
        "Fraudulent Financial Reporting Indicators"
      ]
    },
    {
      "cell_type": "code",
      "execution_count": 87,
      "metadata": {
        "colab": {
          "base_uri": "https://localhost:8080/",
          "height": 582
        },
        "id": "qnF83_-QOdgB",
        "outputId": "c7735e8d-e35c-4f8a-9f92-d18102354e67"
      },
      "outputs": [
        {
          "data": {
            "image/png": "[encoded data removed]",
            "text/plain": [
              "<Figure size 1000x600 with 1 Axes>"
            ]
          },
          "metadata": {},
          "output_type": "display_data"
        },
        {
          "name": "stdout",
          "output_type": "stream",
          "text": [
            "[]\n"
          ]
        }
      ],
      "source": [
        "from sklearn.ensemble import IsolationForest\n",
        "import pandas as pd\n",
        "import matplotlib.pyplot as plt\n",
        "from sklearn.preprocessing import StandardScaler\n",
        "\n",
        "# Generalized Fraud Detection Function\n",
        "def detect_fraud(df, features=['y', 'eps', 'pe'], contamination=0.05):\n",
        "    \"\"\"\n",
        "    Detects fraudulent reports based on anomaly detection and predefined rules.\n",
        "\n",
        "    :param df: DataFrame containing the financial data\n",
        "    :param features: List of columns to use for fraud detection (e.g., 'revenue', 'expenses', 'profit_margin')\n",
        "    :param contamination: Proportion of outliers in the data (e.g., 0.05 for 5%)\n",
        "\n",
        "    :return: DataFrame with fraud flags and list of fraudulent reports\n",
        "    \"\"\"\n",
        "    # Feature extraction (scaling)\n",
        "    X = df[features].copy()\n",
        "    scaler = StandardScaler()\n",
        "    X_scaled = scaler.fit_transform(X)\n",
        "\n",
        "    # Anomaly Detection using Isolation Forest\n",
        "    model = IsolationForest(contamination=contamination)\n",
        "    df['fraud_flag'] = model.fit_predict(X_scaled)  # 1 for normal, -1 for fraud\n",
        "\n",
        "    # Rule-Based Fraud Detection (e.g., excessive revenue without expense increase)\n",
        "    fraudulent_reports = []\n",
        "\n",
        "    # Example: Flag if EPS increases significantly without a corresponding increase in P/E ratio\n",
        "    df['eps_growth'] = df['eps'].pct_change()\n",
        "    df['pe_growth'] = df['pe'].pct_change()\n",
        "\n",
        "    for idx, row in df.iterrows():\n",
        "        if row['eps_growth'] > 0.5 and row['pe_growth'] < 0.1:\n",
        "            fraudulent_reports.append(f\"Suspicious EPS growth without corresponding P/E increase at index {idx}\")\n",
        "\n",
        "        # Example: Flag if P/E ratio deviates significantly\n",
        "        if abs(row['pe'] - df['pe'].mean()) > 10:  # This threshold can be adjusted\n",
        "            fraudulent_reports.append(f\"Unusual P/E ratio at index {idx}\")\n",
        "\n",
        "    # Plot results\n",
        "    plt.figure(figsize=(10, 6))\n",
        "    plt.scatter(df.index, df['y'], c=df['fraud_flag'], cmap='coolwarm', label='Fraud Detected')\n",
        "    plt.title('Fraudulent Financial Reporting Detection')\n",
        "    plt.xlabel('Index')\n",
        "    plt.ylabel('Price (or other target variable)')\n",
        "    plt.legend()\n",
        "    plt.show()\n",
        "\n",
        "    return df, fraudulent_reports\n",
        "\n",
        "# Example usage\n",
        "# df = pd.read_csv(\"company_data.csv\")  # Load your dataset here\n",
        "df_with_fraud_flags, fraudulent_reports = detect_fraud(df)\n",
        "print(fraudulent_reports)\n"
      ]
    },
    {
      "cell_type": "code",
      "execution_count": 85,
      "metadata": {
        "colab": {
          "base_uri": "https://localhost:8080/"
        },
        "id": "R4qiCqQ9O-Vq",
        "outputId": "bb6e6b5d-cff4-4327-f6e2-71d0fccbcd3c"
      },
      "outputs": [
        {
          "name": "stdout",
          "output_type": "stream",
          "text": [
            "Index(['Unnamed: 0', 'symbol', 'name', 'y', 'changesPercentage', 'change',\n",
            "       'dayLow', 'dayHigh', 'yearHigh', 'yearLow', 'marketCap', 'priceAvg50',\n",
            "       'priceAvg200', 'exchange', 'volume', 'avgVolume', 'open',\n",
            "       'previousClose', 'eps', 'pe', 'earningsAnnouncement',\n",
            "       'sharesOutstanding', 'ds'],\n",
            "      dtype='object')\n"
          ]
        }
      ],
      "source": [
        "\n",
        "print(df.columns)  # Check the columns in your dataset\n"
      ]
    },
    {
      "cell_type": "code",
      "execution_count": 89,
      "metadata": {
        "colab": {
          "base_uri": "https://localhost:8080/"
        },
        "id": "OjwEpIOeRXM7",
        "outputId": "5f3fce17-a33d-4cdc-8ccf-29cded87c387"
      },
      "outputs": [
        {
          "name": "stdout",
          "output_type": "stream",
          "text": [
            "Number of rows: 1\n",
            "Number of columns: 26\n"
          ]
        }
      ],
      "source": [
        "# Check the number of rows and columns in the dataset\n",
        "print(f\"Number of rows: {df.shape[0]}\")\n",
        "print(f\"Number of columns: {df.shape[1]}\")\n"
      ]
    },
    {
      "cell_type": "code",
      "execution_count": 92,
      "metadata": {
        "colab": {
          "base_uri": "https://localhost:8080/"
        },
        "id": "XQuwfKq_SEm4",
        "outputId": "a34b0479-268a-4a01-f11e-d47cf8920383"
      },
      "outputs": [
        {
          "name": "stdout",
          "output_type": "stream",
          "text": [
            "Missing data per column:\n",
            "Unnamed: 0              0\n",
            "symbol                  0\n",
            "name                    0\n",
            "y                       0\n",
            "changesPercentage       0\n",
            "change                  0\n",
            "dayLow                  0\n",
            "dayHigh                 0\n",
            "yearHigh                0\n",
            "yearLow                 0\n",
            "marketCap               0\n",
            "priceAvg50              0\n",
            "priceAvg200             0\n",
            "exchange                0\n",
            "volume                  0\n",
            "avgVolume               0\n",
            "open                    0\n",
            "previousClose           0\n",
            "eps                     0\n",
            "pe                      0\n",
            "earningsAnnouncement    0\n",
            "sharesOutstanding       0\n",
            "ds                      0\n",
            "fraud_flag              0\n",
            "eps_growth              1\n",
            "pe_growth               1\n",
            "dtype: int64\n"
          ]
        }
      ],
      "source": [
        "# Check for missing data in the dataset\n",
        "missing_data = df.isnull().sum()\n",
        "print(\"Missing data per column:\")\n",
        "print(missing_data)\n"
      ]
    },
    {
      "cell_type": "code",
      "execution_count": 93,
      "metadata": {
        "colab": {
          "base_uri": "https://localhost:8080/"
        },
        "id": "WmxUgA-JSHZ4",
        "outputId": "3b53a637-a2fc-4067-ebfe-4f8077d93387"
      },
      "outputs": [
        {
          "name": "stdout",
          "output_type": "stream",
          "text": [
            "       Unnamed: 0       y  changesPercentage  change  dayLow  dayHigh  \\\n",
            "count         1.0    1.00            1.00000    1.00    1.00     1.00   \n",
            "mean          0.0  391.26            1.14259    4.42  382.92   391.71   \n",
            "std           NaN     NaN                NaN     NaN     NaN      NaN   \n",
            "min           0.0  391.26            1.14259    4.42  382.92   391.71   \n",
            "25%           0.0  391.26            1.14259    4.42  382.92   391.71   \n",
            "50%           0.0  391.26            1.14259    4.42  382.92   391.71   \n",
            "75%           0.0  391.26            1.14259    4.42  382.92   391.71   \n",
            "max           0.0  391.26            1.14259    4.42  382.92   391.71   \n",
            "\n",
            "       yearHigh  yearLow     marketCap  priceAvg50  ...      volume  \\\n",
            "count      1.00     1.00  1.000000e+00      1.0000  ...         1.0   \n",
            "mean     468.35   376.91  2.908619e+12    408.9458  ...  38759185.0   \n",
            "std         NaN      NaN           NaN         NaN  ...         NaN   \n",
            "min      468.35   376.91  2.908619e+12    408.9458  ...  38759185.0   \n",
            "25%      468.35   376.91  2.908619e+12    408.9458  ...  38759185.0   \n",
            "50%      468.35   376.91  2.908619e+12    408.9458  ...  38759185.0   \n",
            "75%      468.35   376.91  2.908619e+12    408.9458  ...  38759185.0   \n",
            "max      468.35   376.91  2.908619e+12    408.9458  ...  38759185.0   \n",
            "\n",
            "        avgVolume    open  previousClose    eps    pe  sharesOutstanding  \\\n",
            "count         1.0    1.00           1.00   1.00   1.0       1.000000e+00   \n",
            "mean   22370941.0  384.71         386.84  12.42  31.5       7.433980e+09   \n",
            "std           NaN     NaN            NaN    NaN   NaN                NaN   \n",
            "min    22370941.0  384.71         386.84  12.42  31.5       7.433980e+09   \n",
            "25%    22370941.0  384.71         386.84  12.42  31.5       7.433980e+09   \n",
            "50%    22370941.0  384.71         386.84  12.42  31.5       7.433980e+09   \n",
            "75%    22370941.0  384.71         386.84  12.42  31.5       7.433980e+09   \n",
            "max    22370941.0  384.71         386.84  12.42  31.5       7.433980e+09   \n",
            "\n",
            "       fraud_flag  eps_growth  pe_growth  \n",
            "count         1.0         0.0        0.0  \n",
            "mean          1.0         NaN        NaN  \n",
            "std           NaN         NaN        NaN  \n",
            "min           1.0         NaN        NaN  \n",
            "25%           1.0         NaN        NaN  \n",
            "50%           1.0         NaN        NaN  \n",
            "75%           1.0         NaN        NaN  \n",
            "max           1.0         NaN        NaN  \n",
            "\n",
            "[8 rows x 21 columns]\n"
          ]
        }
      ],
      "source": [
        "# Check basic statistics of the dataset (mean, std, min, max)\n",
        "print(df.describe())\n"
      ]
    },
    {
      "cell_type": "code",
      "execution_count": null,
      "metadata": {
        "id": "OlqVXqQQSJvZ"
      },
      "outputs": [],
      "source": []
    }
  ],
  "metadata": {
    "colab": {
      "provenance": []
    },
    "kernelspec": {
      "display_name": "Python 3",
      "name": "python3"
    },
    "language_info": {
      "name": "python"
    }
  },
  "nbformat": 4,
  "nbformat_minor": 0
}
